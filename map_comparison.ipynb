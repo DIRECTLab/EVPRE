{
 "cells": [
  {
   "cell_type": "markdown",
   "id": "6b43f0f5-f223-4c56-a127-d86a65e31081",
   "metadata": {},
   "source": [
    "# Map Comparison\n",
    "This is an implementation that compares the three models."
   ]
  },
  {
   "cell_type": "markdown",
   "id": "6015c3aa-d7b3-4220-b251-bc5cd41f00c8",
   "metadata": {},
   "source": [
    "## Create an Instance of RouteEstimator"
   ]
  },
  {
   "cell_type": "code",
   "execution_count": 1,
   "id": "2280b96e-8793-4758-a208-2f4dc7494bcf",
   "metadata": {},
   "outputs": [],
   "source": [
    "# import the required modules and packages"
   ]
  },
  {
   "cell_type": "code",
   "execution_count": 2,
   "id": "4c441464-d157-496a-960f-d116a5d1335c",
   "metadata": {},
   "outputs": [],
   "source": [
    "import sys\n",
    "sys.path.append(\"route_estimator\")\n",
    "sys.path.append(\"route_estimator/models\")\n",
    "sys.path.append(\"route_estimator/weather\")\n",
    "sys.path.append(\"route_estimator/traffic\")\n",
    "sys.path.append(\"range_estimator\")\n",
    "from route_estimator import RouteEstimator\n",
    "from range_estimator import RangeEstimator\n",
    "from config import Config"
   ]
  },
  {
   "cell_type": "code",
   "execution_count": 3,
   "id": "f6dde4a4-b38a-454e-a232-4282022af7d8",
   "metadata": {},
   "outputs": [],
   "source": [
    "route_estimator= RouteEstimator(Config())"
   ]
  },
  {
   "cell_type": "markdown",
   "id": "aabb6a2e-a238-4da5-b8e0-fb776a9d49fd",
   "metadata": {},
   "source": [
    "## Activate Compare Mode\n",
    "This will add energy estimates to the graph for both the simple energy model and fastsim. This will take some time. On a rather fast CPU this took approximately 8 minutes."
   ]
  },
  {
   "cell_type": "code",
   "execution_count": null,
   "id": "62904330-de13-4412-8b15-212c4fb39985",
   "metadata": {},
   "outputs": [
    {
     "name": "stdout",
     "output_type": "stream",
     "text": [
      "Warning: There is a problem with conservation of energy.\n"
     ]
    }
   ],
   "source": [
    "%%time\n",
    "route_estimator.activate_both_models()"
   ]
  },
  {
   "cell_type": "markdown",
   "id": "081a7bad-2234-4694-8365-5026bb6f6d4f",
   "metadata": {},
   "source": [
    "## Create a Map\n",
    "This will create an interactive map that should let you compare the three routes. The shortest distance is drawn in black. The simple energy model is drawn in blue. The fastsim model is drawn in red."
   ]
  },
  {
   "cell_type": "code",
   "execution_count": null,
   "id": "c7c78b38-83c3-4f91-911a-7ecba49fc808",
   "metadata": {},
   "outputs": [],
   "source": [
    "route_map = route_estimator.create_map()\n",
    "route_map"
   ]
  },
  {
   "cell_type": "code",
   "execution_count": null,
   "id": "0ac15775-af22-430c-a032-2826e5d6c1c0",
   "metadata": {},
   "outputs": [],
   "source": []
  }
 ],
 "metadata": {
  "kernelspec": {
   "display_name": "Python 3",
   "language": "python",
   "name": "python3"
  },
  "language_info": {
   "codemirror_mode": {
    "name": "ipython",
    "version": 3
   },
   "file_extension": ".py",
   "mimetype": "text/x-python",
   "name": "python",
   "nbconvert_exporter": "python",
   "pygments_lexer": "ipython3",
   "version": "3.7.10"
  }
 },
 "nbformat": 4,
 "nbformat_minor": 5
}
