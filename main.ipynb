{
 "cells": [
  {
   "cell_type": "markdown",
   "id": "e1c19fd3",
   "metadata": {},
   "source": [
    "# Route Estimator\n",
    "This software is to help predict the most energy optimized path between two destinations. The default method for computing shortest path can be changed in the `config.py`. The current example edge weight is based on length to show functionality of the markers. There are two provided models that can be applied to the graph to compute an energy consumption estimate. The weight mode can then be changed accordingly."
   ]
  },
  {
   "cell_type": "code",
   "execution_count": 1,
   "id": "fe36b6f6",
   "metadata": {},
   "outputs": [],
   "source": [
    "from route_estimator import RouteEstimator, models, weather, traffic\n",
    "from range_estimator import RangeEstimator\n",
    "from config import Config"
   ]
  },
  {
   "cell_type": "markdown",
   "id": "e85ae02b",
   "metadata": {},
   "source": [
    " To get started you will need an instance of the RouteEstimator object created with the config file. You will need to setup the config file to include api keys."
   ]
  },
  {
   "cell_type": "code",
   "execution_count": 2,
   "id": "1e367da9",
   "metadata": {},
   "outputs": [
    {
     "name": "stdout",
     "output_type": "stream",
     "text": [
      "Number of Google API calls needed for elevation data: 10\n"
     ]
    },
    {
     "ename": "InsufficientResponseError",
     "evalue": "{'error_message': 'The provided API key is invalid. ', 'results': [], 'status': 'REQUEST_DENIED'}",
     "output_type": "error",
     "traceback": [
      "\u001b[0;31m---------------------------------------------------------------------------\u001b[0m",
      "\u001b[0;31mInsufficientResponseError\u001b[0m                 Traceback (most recent call last)",
      "Cell \u001b[0;32mIn[2], line 1\u001b[0m\n\u001b[0;32m----> 1\u001b[0m route_estimator_length \u001b[38;5;241m=\u001b[39m \u001b[43mRouteEstimator\u001b[49m\u001b[43m(\u001b[49m\u001b[43mConfig\u001b[49m\u001b[43m(\u001b[49m\u001b[43m)\u001b[49m\u001b[43m)\u001b[49m\n",
      "File \u001b[0;32m~/shared-repos/EVPRE/route_estimator/route_estimator.py:27\u001b[0m, in \u001b[0;36mRouteEstimator.__init__\u001b[0;34m(self, config, graph)\u001b[0m\n\u001b[1;32m     25\u001b[0m \u001b[38;5;66;03m# create an instance of the graph\u001b[39;00m\n\u001b[1;32m     26\u001b[0m \u001b[38;5;28;01mif\u001b[39;00m(graph \u001b[38;5;241m==\u001b[39m \u001b[38;5;28;01mNone\u001b[39;00m):\n\u001b[0;32m---> 27\u001b[0m     \u001b[38;5;28;43mself\u001b[39;49m\u001b[38;5;241;43m.\u001b[39;49m\u001b[43mcreate_graph\u001b[49m\u001b[43m(\u001b[49m\u001b[43m)\u001b[49m\n\u001b[1;32m     28\u001b[0m \u001b[38;5;28;01melse\u001b[39;00m:\n\u001b[1;32m     29\u001b[0m     \u001b[38;5;28mself\u001b[39m\u001b[38;5;241m.\u001b[39mgraph \u001b[38;5;241m=\u001b[39m graph\n",
      "File \u001b[0;32m~/shared-repos/EVPRE/route_estimator/route_estimator.py:73\u001b[0m, in \u001b[0;36mRouteEstimator.create_graph\u001b[0;34m(self)\u001b[0m\n\u001b[1;32m     71\u001b[0m graph \u001b[38;5;241m=\u001b[39m ox\u001b[38;5;241m.\u001b[39madd_edge_bearings(graph)\n\u001b[1;32m     72\u001b[0m graph \u001b[38;5;241m=\u001b[39m ox\u001b[38;5;241m.\u001b[39madd_edge_travel_times(graph)\n\u001b[0;32m---> 73\u001b[0m graph \u001b[38;5;241m=\u001b[39m \u001b[38;5;28;43mself\u001b[39;49m\u001b[38;5;241;43m.\u001b[39;49m\u001b[43mcount_Google_API_calls\u001b[49m\u001b[43m(\u001b[49m\u001b[43mgraph\u001b[49m\u001b[43m,\u001b[49m\u001b[43m \u001b[49m\u001b[38;5;28;43mself\u001b[39;49m\u001b[38;5;241;43m.\u001b[39;49m\u001b[43mgoogle_maps_key\u001b[49m\u001b[43m)\u001b[49m\n\u001b[1;32m     74\u001b[0m graph \u001b[38;5;241m=\u001b[39m ox\u001b[38;5;241m.\u001b[39madd_edge_grades(graph)\n\u001b[1;32m     75\u001b[0m \u001b[38;5;28mself\u001b[39m\u001b[38;5;241m.\u001b[39mgraph \u001b[38;5;241m=\u001b[39m graph\n",
      "File \u001b[0;32m~/shared-repos/EVPRE/route_estimator/route_estimator.py:85\u001b[0m, in \u001b[0;36mRouteEstimator.count_Google_API_calls\u001b[0;34m(self, graph, google_API_key)\u001b[0m\n\u001b[1;32m     83\u001b[0m total_calls \u001b[38;5;241m=\u001b[39m math\u001b[38;5;241m.\u001b[39mceil(num_nodes \u001b[38;5;241m/\u001b[39m batch_size)\n\u001b[1;32m     84\u001b[0m \u001b[38;5;28mprint\u001b[39m(\u001b[38;5;124mf\u001b[39m\u001b[38;5;124m\"\u001b[39m\u001b[38;5;124mNumber of Google API calls needed for elevation data: \u001b[39m\u001b[38;5;132;01m{\u001b[39;00mtotal_calls\u001b[38;5;132;01m}\u001b[39;00m\u001b[38;5;124m\"\u001b[39m)\n\u001b[0;32m---> 85\u001b[0m \u001b[38;5;28;01mreturn\u001b[39;00m \u001b[43mox\u001b[49m\u001b[38;5;241;43m.\u001b[39;49m\u001b[43madd_node_elevations_google\u001b[49m\u001b[43m(\u001b[49m\u001b[43mgraph\u001b[49m\u001b[43m,\u001b[49m\u001b[43m \u001b[49m\u001b[43mapi_key\u001b[49m\u001b[38;5;241;43m=\u001b[39;49m\u001b[43mgoogle_API_key\u001b[49m\u001b[43m)\u001b[49m\n",
      "File \u001b[0;32m~/miniconda3/envs/test_evpre/lib/python3.10/site-packages/osmnx/elevation.py:270\u001b[0m, in \u001b[0;36madd_node_elevations_google\u001b[0;34m(G, api_key, batch_size, pause)\u001b[0m\n\u001b[1;32m    268\u001b[0m         results\u001b[38;5;241m.\u001b[39mextend(response_json[\u001b[38;5;124m\"\u001b[39m\u001b[38;5;124mresults\u001b[39m\u001b[38;5;124m\"\u001b[39m])\n\u001b[1;32m    269\u001b[0m     \u001b[38;5;28;01melse\u001b[39;00m:\n\u001b[0;32m--> 270\u001b[0m         \u001b[38;5;28;01mraise\u001b[39;00m InsufficientResponseError(\u001b[38;5;28mstr\u001b[39m(response_json))\n\u001b[1;32m    272\u001b[0m \u001b[38;5;66;03m# sanity check that all our vectors have the same number of elements\u001b[39;00m\n\u001b[1;32m    273\u001b[0m msg \u001b[38;5;241m=\u001b[39m \u001b[38;5;124mf\u001b[39m\u001b[38;5;124m\"\u001b[39m\u001b[38;5;124mGraph has \u001b[39m\u001b[38;5;132;01m{\u001b[39;00m\u001b[38;5;28mlen\u001b[39m(G)\u001b[38;5;132;01m:\u001b[39;00m\u001b[38;5;124m,\u001b[39m\u001b[38;5;132;01m}\u001b[39;00m\u001b[38;5;124m nodes and we received \u001b[39m\u001b[38;5;132;01m{\u001b[39;00m\u001b[38;5;28mlen\u001b[39m(results)\u001b[38;5;132;01m:\u001b[39;00m\u001b[38;5;124m,\u001b[39m\u001b[38;5;132;01m}\u001b[39;00m\u001b[38;5;124m results from \u001b[39m\u001b[38;5;132;01m{\u001b[39;00mhostname\u001b[38;5;132;01m!r}\u001b[39;00m\u001b[38;5;124m\"\u001b[39m\n",
      "\u001b[0;31mInsufficientResponseError\u001b[0m: {'error_message': 'The provided API key is invalid. ', 'results': [], 'status': 'REQUEST_DENIED'}"
     ]
    }
   ],
   "source": [
    "route_estimator_length = RouteEstimator(Config())"
   ]
  },
  {
   "cell_type": "markdown",
   "id": "8253cefb",
   "metadata": {},
   "source": [
    "## Example of the Default Map"
   ]
  },
  {
   "cell_type": "code",
   "execution_count": null,
   "id": "9b83bbec",
   "metadata": {},
   "outputs": [],
   "source": [
    "route_map = route_estimator_length.create_map()\n",
    "route_map"
   ]
  },
  {
   "cell_type": "markdown",
   "id": "93f3fcd5",
   "metadata": {
    "tags": []
   },
   "source": [
    " ## Example of Simple Energy Model\n",
    " Requires: Google Maps API Key, Open Weather API Key"
   ]
  },
  {
   "cell_type": "code",
   "execution_count": null,
   "id": "529acacb",
   "metadata": {},
   "outputs": [],
   "source": [
    "simple_model_config = Config()\n",
    "route_estimator_simple_model = RouteEstimator(simple_model_config, graph=route_estimator_length.get_graph())\n",
    "route_estimator_simple_model.activate_energy_model()\n",
    "route_map_simple_e = route_estimator_simple_model.create_map()\n",
    "route_map_simple_e"
   ]
  },
  {
   "cell_type": "markdown",
   "id": "1976c4ce",
   "metadata": {},
   "source": [
    "## Example of Isochrone"
   ]
  },
  {
   "cell_type": "code",
   "execution_count": null,
   "id": "5f86153b",
   "metadata": {},
   "outputs": [],
   "source": [
    "range_estimator_simple_model = RangeEstimator(simple_model_config, route_estimator_simple_model.get_graph())\n",
    "range_estimator_simple_model.generate_isochrone(simple_model_config.vehicle_config[\"kwh\"])"
   ]
  },
  {
   "cell_type": "markdown",
   "id": "62288efe",
   "metadata": {},
   "source": [
    " ## Example of FASTSim Energy Model\n",
    " Requires: Google Maps API Key, Open Weather API Key\n",
    "\n",
    " Note: FASTSim calculations may take a few minutes"
   ]
  },
  {
   "cell_type": "code",
   "execution_count": null,
   "id": "86721cd4",
   "metadata": {},
   "outputs": [],
   "source": [
    "%%time\n",
    "fastsim_config = Config(\"FASTSIM\")\n",
    "route_estimator_fastsim_model = RouteEstimator(fastsim_config, graph=route_estimator_length.get_graph())\n",
    "route_estimator_fastsim_model.activate_energy_model()\n",
    "route_map_fastsim_e = route_estimator_fastsim_model.create_map()\n",
    "route_map_fastsim_e"
   ]
  },
  {
   "cell_type": "code",
   "execution_count": null,
   "id": "164b7cae-ce5a-44be-a3d3-86eee2bd953a",
   "metadata": {},
   "outputs": [],
   "source": []
  }
 ],
 "metadata": {
  "kernelspec": {
   "display_name": "test_evpre",
   "language": "python",
   "name": "python3"
  },
  "language_info": {
   "codemirror_mode": {
    "name": "ipython",
    "version": 3
   },
   "file_extension": ".py",
   "mimetype": "text/x-python",
   "name": "python",
   "nbconvert_exporter": "python",
   "pygments_lexer": "ipython3",
   "version": "3.10.13"
  }
 },
 "nbformat": 4,
 "nbformat_minor": 5
}
