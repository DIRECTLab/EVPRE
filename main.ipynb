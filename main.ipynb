{
 "cells": [
  {
   "cell_type": "markdown",
   "id": "e1c19fd3",
   "metadata": {},
   "source": [
    "# Route Estimator\n",
    "This software is to help predict the most energy optimized path between two destinations. The default method for computing shortest path can be changed in the `config.py`. The current example edge weight is based on length to show functionality of the markers. There are two provided models that can be applied to the graph to compute an energy consumption estimate. The weight mode can then be changed accordingly."
   ]
  },
  {
   "cell_type": "code",
   "execution_count": 1,
   "id": "fe36b6f6",
   "metadata": {},
   "outputs": [],
   "source": [
    "from route_estimator import RouteEstimator, models, weather, traffic\n",
    "from range_estimator import RangeEstimator\n",
    "from config import Config"
   ]
  },
  {
   "cell_type": "markdown",
   "id": "e85ae02b",
   "metadata": {},
   "source": [
    " To get started you will need an instance of the RouteEstimator object created with the config file. You will need to setup the config file to include api keys."
   ]
  },
  {
   "cell_type": "code",
   "execution_count": 2,
   "id": "1e367da9",
   "metadata": {},
   "outputs": [
    {
     "name": "stdout",
     "output_type": "stream",
     "text": [
      "Number of Google API calls needed for elevation data: 1\n"
     ]
    }
   ],
   "source": [
    "route_estimator_length = RouteEstimator(Config())"
   ]
  },
  {
   "cell_type": "markdown",
   "id": "8253cefb",
   "metadata": {},
   "source": [
    "## Example of the Default Map"
   ]
  },
  {
   "cell_type": "code",
   "execution_count": 3,
   "id": "9b83bbec",
   "metadata": {},
   "outputs": [
    {
     "data": {
      "application/vnd.jupyter.widget-view+json": {
       "model_id": "d6ad43cc02a24d60ad5ef6e0230e181c",
       "version_major": 2,
       "version_minor": 0
      },
      "text/plain": [
       "Map(center=[41.760167, -111.816973], controls=(ZoomControl(options=['position', 'zoom_in_text', 'zoom_in_title…"
      ]
     },
     "execution_count": 3,
     "metadata": {},
     "output_type": "execute_result"
    }
   ],
   "source": [
    "route_map = route_estimator_length.create_map()\n",
    "route_map"
   ]
  },
  {
   "cell_type": "markdown",
   "id": "93f3fcd5",
   "metadata": {
    "tags": []
   },
   "source": [
    " ## Example of Simple Energy Model\n",
    " Requires: Google Maps API Key, Open Weather API Key"
   ]
  },
  {
   "cell_type": "code",
   "execution_count": 4,
   "id": "529acacb",
   "metadata": {},
   "outputs": [
    {
     "ename": "AttributeError",
     "evalue": "'NoneType' object has no attribute 'get'",
     "output_type": "error",
     "traceback": [
      "\u001b[0;31m---------------------------------------------------------------------------\u001b[0m",
      "\u001b[0;31mAttributeError\u001b[0m                            Traceback (most recent call last)",
      "Cell \u001b[0;32mIn[4], line 3\u001b[0m\n\u001b[1;32m      1\u001b[0m simple_model_config \u001b[38;5;241m=\u001b[39m Config()\n\u001b[1;32m      2\u001b[0m route_estimator_simple_model \u001b[38;5;241m=\u001b[39m RouteEstimator(simple_model_config, graph\u001b[38;5;241m=\u001b[39mroute_estimator_length\u001b[38;5;241m.\u001b[39mget_graph())\n\u001b[0;32m----> 3\u001b[0m \u001b[43mroute_estimator_simple_model\u001b[49m\u001b[38;5;241;43m.\u001b[39;49m\u001b[43mactivate_energy_model\u001b[49m\u001b[43m(\u001b[49m\u001b[43m)\u001b[49m\n\u001b[1;32m      4\u001b[0m route_map_simple_e \u001b[38;5;241m=\u001b[39m route_estimator_simple_model\u001b[38;5;241m.\u001b[39mcreate_map()\n\u001b[1;32m      5\u001b[0m route_map_simple_e\n",
      "File \u001b[0;32m~/shared-repos/EVPRE/route_estimator/route_estimator.py:186\u001b[0m, in \u001b[0;36mRouteEstimator.activate_energy_model\u001b[0;34m(self)\u001b[0m\n\u001b[1;32m    184\u001b[0m \u001b[38;5;28;01mdef\u001b[39;00m\u001b[38;5;250m \u001b[39m\u001b[38;5;21mactivate_energy_model\u001b[39m(\u001b[38;5;28mself\u001b[39m):\n\u001b[1;32m    185\u001b[0m     \u001b[38;5;28;01mif\u001b[39;00m \u001b[38;5;28misinstance\u001b[39m(\u001b[38;5;28mself\u001b[39m\u001b[38;5;241m.\u001b[39mvehicle, ev_energy_model):\n\u001b[0;32m--> 186\u001b[0m         \u001b[38;5;28;43mself\u001b[39;49m\u001b[38;5;241;43m.\u001b[39;49m\u001b[43m__activate_simple_energy_model\u001b[49m\u001b[43m(\u001b[49m\u001b[43m)\u001b[49m\n\u001b[1;32m    187\u001b[0m     \u001b[38;5;28;01melif\u001b[39;00m \u001b[38;5;28misinstance\u001b[39m(\u001b[38;5;28mself\u001b[39m\u001b[38;5;241m.\u001b[39mvehicle, fastsim_energy_model):\n\u001b[1;32m    188\u001b[0m         \u001b[38;5;28mself\u001b[39m\u001b[38;5;241m.\u001b[39m__activate_fastsim_energy_model()\n",
      "File \u001b[0;32m~/shared-repos/EVPRE/route_estimator/route_estimator.py:236\u001b[0m, in \u001b[0;36mRouteEstimator.__activate_simple_energy_model\u001b[0;34m(self)\u001b[0m\n\u001b[1;32m    233\u001b[0m energy_consumed \u001b[38;5;241m=\u001b[39m []\n\u001b[1;32m    235\u001b[0m \u001b[38;5;66;03m# get the starting wind and wind bearing for the energy consumption model\u001b[39;00m\n\u001b[0;32m--> 236\u001b[0m current_weather \u001b[38;5;241m=\u001b[39m \u001b[43mget_weather_data\u001b[49m\u001b[43m(\u001b[49m\n\u001b[1;32m    237\u001b[0m \u001b[43m    \u001b[49m\u001b[38;5;28;43mself\u001b[39;49m\u001b[38;5;241;43m.\u001b[39;49m\u001b[43mstarting_coord\u001b[49m\u001b[43m[\u001b[49m\u001b[38;5;241;43m0\u001b[39;49m\u001b[43m]\u001b[49m\u001b[43m,\u001b[49m\u001b[43m \u001b[49m\u001b[38;5;28;43mself\u001b[39;49m\u001b[38;5;241;43m.\u001b[39;49m\u001b[43mstarting_coord\u001b[49m\u001b[43m[\u001b[49m\u001b[38;5;241;43m1\u001b[39;49m\u001b[43m]\u001b[49m\u001b[43m,\u001b[49m\u001b[43m \u001b[49m\u001b[38;5;28;43mself\u001b[39;49m\u001b[38;5;241;43m.\u001b[39;49m\u001b[43mweather_key\u001b[49m\u001b[43m)\u001b[49m\n\u001b[1;32m    239\u001b[0m \u001b[38;5;66;03m# For each row, grab the required value, compute the energy, and add to the energy list\u001b[39;00m\n\u001b[1;32m    240\u001b[0m \u001b[38;5;28;01mfor\u001b[39;00m index, row \u001b[38;5;129;01min\u001b[39;00m graphDF[\u001b[38;5;241m1\u001b[39m]\u001b[38;5;241m.\u001b[39miterrows():\n",
      "File \u001b[0;32m~/shared-repos/EVPRE/route_estimator/weather/weather.py:13\u001b[0m, in \u001b[0;36mget_weather_data\u001b[0;34m(lat, lon, weather_api_key)\u001b[0m\n\u001b[1;32m     11\u001b[0m \u001b[38;5;66;03m# wind_heading = weatherResponse['wind']['deg']\u001b[39;00m\n\u001b[1;32m     12\u001b[0m wind_heading \u001b[38;5;241m=\u001b[39m (weatherResponse\u001b[38;5;241m.\u001b[39mget(\u001b[38;5;124m'\u001b[39m\u001b[38;5;124mwind\u001b[39m\u001b[38;5;124m'\u001b[39m, {}))\u001b[38;5;241m.\u001b[39mget(\u001b[38;5;124m'\u001b[39m\u001b[38;5;124mdeg\u001b[39m\u001b[38;5;124m'\u001b[39m, \u001b[38;5;241m0\u001b[39m)\n\u001b[0;32m---> 13\u001b[0m temperature \u001b[38;5;241m=\u001b[39m \u001b[43m(\u001b[49m\u001b[43mweatherResponse\u001b[49m\u001b[38;5;241;43m.\u001b[39;49m\u001b[43mget\u001b[49m\u001b[43m(\u001b[49m\u001b[38;5;124;43m'\u001b[39;49m\u001b[38;5;124;43mmain\u001b[39;49m\u001b[38;5;124;43m'\u001b[39;49m\u001b[43m)\u001b[49m\u001b[43m)\u001b[49m\u001b[38;5;241;43m.\u001b[39;49m\u001b[43mget\u001b[49m(\u001b[38;5;124m'\u001b[39m\u001b[38;5;124mtemp\u001b[39m\u001b[38;5;124m'\u001b[39m)\n\u001b[1;32m     14\u001b[0m humidity \u001b[38;5;241m=\u001b[39m (weatherResponse\u001b[38;5;241m.\u001b[39mget(\u001b[38;5;124m'\u001b[39m\u001b[38;5;124mmain\u001b[39m\u001b[38;5;124m'\u001b[39m))\u001b[38;5;241m.\u001b[39mget(\u001b[38;5;124m'\u001b[39m\u001b[38;5;124mhumidity\u001b[39m\u001b[38;5;124m'\u001b[39m)\n\u001b[1;32m     15\u001b[0m visibility \u001b[38;5;241m=\u001b[39m weatherResponse\u001b[38;5;241m.\u001b[39mget(\u001b[38;5;124m'\u001b[39m\u001b[38;5;124mvisibility\u001b[39m\u001b[38;5;124m'\u001b[39m)\n",
      "\u001b[0;31mAttributeError\u001b[0m: 'NoneType' object has no attribute 'get'"
     ]
    }
   ],
   "source": [
    "simple_model_config = Config()\n",
    "route_estimator_simple_model = RouteEstimator(simple_model_config, graph=route_estimator_length.get_graph())\n",
    "route_estimator_simple_model.activate_energy_model()\n",
    "route_map_simple_e = route_estimator_simple_model.create_map()\n",
    "route_map_simple_e"
   ]
  },
  {
   "cell_type": "markdown",
   "id": "1976c4ce",
   "metadata": {},
   "source": [
    "## Example of Isochrone"
   ]
  },
  {
   "cell_type": "code",
   "execution_count": null,
   "id": "5f86153b",
   "metadata": {},
   "outputs": [],
   "source": [
    "range_estimator_simple_model = RangeEstimator(simple_model_config, route_estimator_simple_model.get_graph())\n",
    "range_estimator_simple_model.generate_isochrone(simple_model_config.vehicle_config[\"kwh\"])"
   ]
  },
  {
   "cell_type": "markdown",
   "id": "62288efe",
   "metadata": {},
   "source": [
    " ## Example of FASTSim Energy Model\n",
    " Requires: Google Maps API Key, Open Weather API Key\n",
    "\n",
    " Note: FASTSim calculations may take a few minutes"
   ]
  },
  {
   "cell_type": "code",
   "execution_count": null,
   "id": "86721cd4",
   "metadata": {},
   "outputs": [],
   "source": [
    "%%time\n",
    "fastsim_config = Config(\"FASTSIM\")\n",
    "route_estimator_fastsim_model = RouteEstimator(fastsim_config, graph=route_estimator_length.get_graph())\n",
    "route_estimator_fastsim_model.activate_energy_model()\n",
    "route_map_fastsim_e = route_estimator_fastsim_model.create_map()\n",
    "route_map_fastsim_e"
   ]
  },
  {
   "cell_type": "code",
   "execution_count": null,
   "id": "164b7cae-ce5a-44be-a3d3-86eee2bd953a",
   "metadata": {},
   "outputs": [],
   "source": []
  }
 ],
 "metadata": {
  "kernelspec": {
   "display_name": "test_evpre",
   "language": "python",
   "name": "python3"
  },
  "language_info": {
   "codemirror_mode": {
    "name": "ipython",
    "version": 3
   },
   "file_extension": ".py",
   "mimetype": "text/x-python",
   "name": "python",
   "nbconvert_exporter": "python",
   "pygments_lexer": "ipython3",
   "version": "3.10.13"
  }
 },
 "nbformat": 4,
 "nbformat_minor": 5
}
