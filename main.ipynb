{
 "cells": [
  {
   "cell_type": "code",
   "execution_count": 1,
   "id": "bbcdff39-5c2a-4bfa-b513-427fb62e1598",
   "metadata": {},
   "outputs": [
    {
     "ename": "NameError",
     "evalue": "name 'RangeEstimator' is not defined",
     "output_type": "error",
     "traceback": [
      "\u001b[0;31m---------------------------------------------------------------------------\u001b[0m",
      "\u001b[0;31mNameError\u001b[0m                                 Traceback (most recent call last)",
      "\u001b[0;32m<ipython-input-1-0a85c00d384a>\u001b[0m in \u001b[0;36m<module>\u001b[0;34m\u001b[0m\n\u001b[1;32m      4\u001b[0m \u001b[0;32mfrom\u001b[0m \u001b[0mconfig\u001b[0m \u001b[0;32mimport\u001b[0m \u001b[0mConfig\u001b[0m\u001b[0;34m\u001b[0m\u001b[0;34m\u001b[0m\u001b[0m\n\u001b[1;32m      5\u001b[0m \u001b[0;34m\u001b[0m\u001b[0m\n\u001b[0;32m----> 6\u001b[0;31m \u001b[0mrange_estimator\u001b[0m \u001b[0;34m=\u001b[0m \u001b[0mRangeEstimator\u001b[0m\u001b[0;34m(\u001b[0m\u001b[0mConfig\u001b[0m\u001b[0;34m(\u001b[0m\u001b[0;34m)\u001b[0m\u001b[0;34m)\u001b[0m\u001b[0;34m\u001b[0m\u001b[0;34m\u001b[0m\u001b[0m\n\u001b[0m\u001b[1;32m      7\u001b[0m \u001b[0mgraph\u001b[0m \u001b[0;34m=\u001b[0m \u001b[0mrange_estimator\u001b[0m\u001b[0;34m.\u001b[0m\u001b[0mget_dataframe_from_graph\u001b[0m\u001b[0;34m(\u001b[0m\u001b[0;34m)\u001b[0m\u001b[0;34m\u001b[0m\u001b[0;34m\u001b[0m\u001b[0m\n\u001b[1;32m      8\u001b[0m \u001b[0mroute_map\u001b[0m \u001b[0;34m=\u001b[0m \u001b[0mrange_estimator\u001b[0m\u001b[0;34m.\u001b[0m\u001b[0mcreate_map\u001b[0m\u001b[0;34m(\u001b[0m\u001b[0;34m)\u001b[0m\u001b[0;34m\u001b[0m\u001b[0;34m\u001b[0m\u001b[0m\n",
      "\u001b[0;31mNameError\u001b[0m: name 'RangeEstimator' is not defined"
     ]
    }
   ],
   "source": [
    "import sys\n",
    "sys.path.append(\"route_estimator\")\n",
    "from route_estimator import RouteEstimator\n",
    "from config import Config\n",
    "\n",
    "route_estimator = RouteEstimator(Config())\n",
    "\n",
    "route_map = route_estimator.create_map()"
   ]
  },
  {
   "cell_type": "code",
   "execution_count": null,
   "id": "d4ef609b-d831-4d2c-926f-f7980a611d60",
   "metadata": {},
   "outputs": [],
   "source": [
    "route_map"
   ]
  },
  {
   "cell_type": "code",
   "execution_count": null,
   "id": "3d83f616-477b-47cb-bb19-40cbbc11ae84",
   "metadata": {},
   "outputs": [],
   "source": []
  }
 ],
 "metadata": {
  "kernelspec": {
   "display_name": "Python 3",
   "language": "python",
   "name": "python3"
  },
  "language_info": {
   "codemirror_mode": {
    "name": "ipython",
    "version": 3
   },
   "file_extension": ".py",
   "mimetype": "text/x-python",
   "name": "python",
   "nbconvert_exporter": "python",
   "pygments_lexer": "ipython3",
   "version": "3.7.10"
  }
 },
 "nbformat": 4,
 "nbformat_minor": 5
}
