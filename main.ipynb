{
 "cells": [
  {
   "cell_type": "code",
   "execution_count": 1,
   "id": "bbcdff39-5c2a-4bfa-b513-427fb62e1598",
   "metadata": {},
   "outputs": [
    {
     "name": "stdout",
     "output_type": "stream",
     "text": [
      "Marker(location=[41.740563, -111.81391], options=['alt', 'draggable', 'keyboard', 'rise_offset', 'rise_on_hover', 'rotation_angle', 'rotation_origin', 'title', 'z_index_offset'])\n",
      "Marker(icon=AwesomeIcon(marker_color='red', name='circle'), location=[41.740563, -111.81391], options=['alt', 'draggable', 'keyboard', 'rise_offset', 'rise_on_hover', 'rotation_angle', 'rotation_origin', 'title', 'z_index_offset'])\n"
     ]
    }
   ],
   "source": [
    "import sys\n",
    "sys.path.append(\"range_estimator\")\n",
    "from range_estimator import RangeEstimator\n",
    "from config import Config\n",
    "\n",
    "range_estimator = RangeEstimator(Config())\n",
    "graph = range_estimator.get_dataframe_from_graph()\n",
    "route_map = range_estimator.create_map()"
   ]
  },
  {
   "cell_type": "code",
   "execution_count": 2,
   "id": "d4ef609b-d831-4d2c-926f-f7980a611d60",
   "metadata": {},
   "outputs": [
    {
     "data": {
      "application/vnd.jupyter.widget-view+json": {
       "model_id": "2a568a043f3541839eaeaaf6a4e0bad1",
       "version_major": 2,
       "version_minor": 0
      },
      "text/plain": [
       "Map(center=[41.740563, -111.81391], controls=(ZoomControl(options=['position', 'zoom_in_text', 'zoom_in_title'…"
      ]
     },
     "metadata": {},
     "output_type": "display_data"
    }
   ],
   "source": [
    "route_map"
   ]
  },
  {
   "cell_type": "code",
   "execution_count": null,
   "id": "3d83f616-477b-47cb-bb19-40cbbc11ae84",
   "metadata": {},
   "outputs": [],
   "source": []
  }
 ],
 "metadata": {
  "kernelspec": {
   "display_name": "Python 3",
   "language": "python",
   "name": "python3"
  },
  "language_info": {
   "codemirror_mode": {
    "name": "ipython",
    "version": 3
   },
   "file_extension": ".py",
   "mimetype": "text/x-python",
   "name": "python",
   "nbconvert_exporter": "python",
   "pygments_lexer": "ipython3",
   "version": "3.7.10"
  }
 },
 "nbformat": 4,
 "nbformat_minor": 5
}
