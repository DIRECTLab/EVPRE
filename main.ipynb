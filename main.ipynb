{
 "cells": [
  {
   "cell_type": "markdown",
   "source": [
    "# Route Estimator\n",
    "This software is to help predict the most energy optimized path between two destinations. The default method for computing shortest path can be changed in the `config.py`. The current example edge weight is based on length to show functionality of the markers. There are two provided models that can be applied to the graph to compute an energy consumption estimate. The weight mode can then be changed accordingly."
   ],
   "metadata": {}
  },
  {
   "cell_type": "code",
   "execution_count": 1,
   "source": [
    "import sys\r\n",
    "sys.path.append(\"route_estimator\")\r\n",
    "sys.path.append(\"route_estimator/models\")\r\n",
    "sys.path.append(\"route_estimator/weather\")\r\n",
    "sys.path.append(\"route_estimator/traffic\")\r\n",
    "from route_estimator import RouteEstimator\r\n",
    "from config import Config"
   ],
   "outputs": [],
   "metadata": {}
  },
  {
   "cell_type": "markdown",
   "source": [
    " To get started you will need an instance of the RouteEstimator object created with the config file. You will need to setup the config file to include api keys."
   ],
   "metadata": {}
  },
  {
   "cell_type": "code",
   "execution_count": 2,
   "source": [
    "route_estimator_length = RouteEstimator(Config())"
   ],
   "outputs": [],
   "metadata": {}
  },
  {
   "cell_type": "markdown",
   "source": [
    "## Example of the Default Map"
   ],
   "metadata": {}
  },
  {
   "cell_type": "code",
   "execution_count": 3,
   "source": [
    "route_map = route_estimator_length.create_map()\r\n",
    "route_map"
   ],
   "outputs": [
    {
     "output_type": "display_data",
     "data": {
      "text/plain": [
       "Map(center=[41.740563, -111.81391], controls=(ZoomControl(options=['position', 'zoom_in_text', 'zoom_in_title'…"
      ],
      "application/vnd.jupyter.widget-view+json": {
       "version_major": 2,
       "version_minor": 0,
       "model_id": "9c4ee61cc4014cfb9f1efbef955d4116"
      }
     },
     "metadata": {}
    }
   ],
   "metadata": {}
  },
  {
   "cell_type": "markdown",
   "source": [
    " ## Example of Simple Energy Model\r\n",
    " Requires: Google Maps API Key, Open Weather API Key"
   ],
   "metadata": {
    "tags": []
   }
  },
  {
   "cell_type": "code",
   "execution_count": 4,
   "source": [
    "route_estimator_simple_model = RouteEstimator(Config())\r\n",
    "route_estimator_simple_model.activate_energy_model()\r\n",
    "route_map_simple_e = route_estimator_simple_model.create_map()\r\n",
    "route_map_simple_e"
   ],
   "outputs": [
    {
     "output_type": "display_data",
     "data": {
      "text/plain": [
       "Map(center=[41.740563, -111.81391], controls=(ZoomControl(options=['position', 'zoom_in_text', 'zoom_in_title'…"
      ],
      "application/vnd.jupyter.widget-view+json": {
       "version_major": 2,
       "version_minor": 0,
       "model_id": "93b27e8014934ba6bfcfe9a9b9f1fb31"
      }
     },
     "metadata": {}
    }
   ],
   "metadata": {}
  },
  {
   "cell_type": "markdown",
   "source": [
    " ## Example of FASTSim Energy Model\r\n",
    " Requires: Google Maps API Key, Open Weather API Key\r\n",
    "\r\n",
    " Note: FASTSim calculations may take a few minutes"
   ],
   "metadata": {}
  },
  {
   "cell_type": "code",
   "execution_count": 5,
   "source": [
    "route_estimator_fastsim_model = RouteEstimator(Config(\"FASTSIM\"))\r\n",
    "route_estimator_fastsim_model.activate_energy_model()\r\n",
    "route_map_fastsim_e = route_estimator_fastsim_model.create_map()\r\n",
    "route_map_fastsim_e"
   ],
   "outputs": [
    {
     "output_type": "stream",
     "name": "stdout",
     "text": [
      "JITing model, please wait...\n",
      "Warning: There is a problem with conservation of energy.\n",
      "Warning: There is a problem with conservation of energy.\n",
      "Warning: There is a problem with conservation of energy.\n"
     ]
    },
    {
     "output_type": "display_data",
     "data": {
      "text/plain": [
       "Map(center=[41.740563, -111.81391], controls=(ZoomControl(options=['position', 'zoom_in_text', 'zoom_in_title'…"
      ],
      "application/vnd.jupyter.widget-view+json": {
       "version_major": 2,
       "version_minor": 0,
       "model_id": "6969d637300a40059fc864c57d7c9911"
      }
     },
     "metadata": {}
    }
   ],
   "metadata": {}
  },
  {
   "cell_type": "code",
   "execution_count": null,
   "source": [],
   "outputs": [],
   "metadata": {}
  }
 ],
 "metadata": {
  "interpreter": {
   "hash": "6367897523351275db1411de5a651ff300f9a75fbc1c315b3dc99aad2a2dea7d"
  },
  "kernelspec": {
   "name": "python3",
   "display_name": "Python 3.9.5 64-bit"
  },
  "language_info": {
   "codemirror_mode": {
    "name": "ipython",
    "version": 3
   },
   "file_extension": ".py",
   "mimetype": "text/x-python",
   "name": "python",
   "nbconvert_exporter": "python",
   "pygments_lexer": "ipython3",
   "version": "3.9.5"
  }
 },
 "nbformat": 4,
 "nbformat_minor": 5
}