{
 "cells": [
  {
   "cell_type": "markdown",
   "id": "e1c19fd3",
   "metadata": {},
   "source": [
    "# Route Estimator\n",
    "This software is to help predict the most energy optimized path between two destinations. The default method for computing shortest path can be changed in the `config.py`. The current example edge weight is based on length to show functionality of the markers. There are two provided models that can be applied to the graph to compute an energy consumption estimate. The weight mode can then be changed accordingly."
   ]
  },
  {
   "cell_type": "code",
   "execution_count": 5,
   "id": "fe36b6f6",
   "metadata": {},
   "outputs": [],
   "source": [
    "import sys\n",
    "sys.path.append(\"route_estimator\")\n",
    "sys.path.append(\"route_estimator/models\")\n",
    "sys.path.append(\"route_estimator/weather\")\n",
    "sys.path.append(\"route_estimator/traffic\")\n",
    "sys.path.append(\"range_estimator\")\n",
    "from route_estimator import RouteEstimator\n",
    "from range_estimator import RangeEstimator\n",
    "from config import Config"
   ]
  },
  {
   "cell_type": "markdown",
   "id": "e85ae02b",
   "metadata": {},
   "source": [
    " To get started you will need an instance of the RouteEstimator object created with the config file. You will need to setup the config file to include api keys."
   ]
  },
  {
   "cell_type": "code",
   "execution_count": 6,
   "id": "1e367da9",
   "metadata": {},
   "outputs": [
    {
     "ename": "Exception",
     "evalue": "Graph has 14701 nodes but we received 0 results from elevation API",
     "output_type": "error",
     "traceback": [
      "\u001b[0;31m---------------------------------------------------------------------------\u001b[0m",
      "\u001b[0;31mException\u001b[0m                                 Traceback (most recent call last)",
      "\u001b[0;32m/tmp/ipykernel_5236/1830800037.py\u001b[0m in \u001b[0;36m<module>\u001b[0;34m\u001b[0m\n\u001b[0;32m----> 1\u001b[0;31m \u001b[0mroute_estimator_length\u001b[0m \u001b[0;34m=\u001b[0m \u001b[0mRouteEstimator\u001b[0m\u001b[0;34m(\u001b[0m\u001b[0mConfig\u001b[0m\u001b[0;34m(\u001b[0m\u001b[0;34m)\u001b[0m\u001b[0;34m)\u001b[0m\u001b[0;34m\u001b[0m\u001b[0;34m\u001b[0m\u001b[0m\n\u001b[0m",
      "\u001b[0;32m~/EVPRE/route_estimator/route_estimator.py\u001b[0m in \u001b[0;36m__init__\u001b[0;34m(self, config, graph)\u001b[0m\n\u001b[1;32m     20\u001b[0m         \u001b[0;31m# create an instance of the graph\u001b[0m\u001b[0;34m\u001b[0m\u001b[0;34m\u001b[0m\u001b[0;34m\u001b[0m\u001b[0m\n\u001b[1;32m     21\u001b[0m         \u001b[0;32mif\u001b[0m\u001b[0;34m(\u001b[0m\u001b[0mgraph\u001b[0m \u001b[0;34m==\u001b[0m \u001b[0;32mNone\u001b[0m\u001b[0;34m)\u001b[0m\u001b[0;34m:\u001b[0m\u001b[0;34m\u001b[0m\u001b[0;34m\u001b[0m\u001b[0m\n\u001b[0;32m---> 22\u001b[0;31m             \u001b[0mself\u001b[0m\u001b[0;34m.\u001b[0m\u001b[0mcreate_graph\u001b[0m\u001b[0;34m(\u001b[0m\u001b[0;34m)\u001b[0m\u001b[0;34m\u001b[0m\u001b[0;34m\u001b[0m\u001b[0m\n\u001b[0m\u001b[1;32m     23\u001b[0m         \u001b[0;32melse\u001b[0m\u001b[0;34m:\u001b[0m\u001b[0;34m\u001b[0m\u001b[0;34m\u001b[0m\u001b[0m\n\u001b[1;32m     24\u001b[0m             \u001b[0mself\u001b[0m\u001b[0;34m.\u001b[0m\u001b[0mgraph\u001b[0m \u001b[0;34m=\u001b[0m \u001b[0mgraph\u001b[0m\u001b[0;34m\u001b[0m\u001b[0;34m\u001b[0m\u001b[0m\n",
      "\u001b[0;32m~/EVPRE/route_estimator/route_estimator.py\u001b[0m in \u001b[0;36mcreate_graph\u001b[0;34m(self)\u001b[0m\n\u001b[1;32m     66\u001b[0m         \u001b[0mgraph\u001b[0m \u001b[0;34m=\u001b[0m \u001b[0mox\u001b[0m\u001b[0;34m.\u001b[0m\u001b[0madd_edge_bearings\u001b[0m\u001b[0;34m(\u001b[0m\u001b[0mgraph\u001b[0m\u001b[0;34m)\u001b[0m\u001b[0;34m\u001b[0m\u001b[0;34m\u001b[0m\u001b[0m\n\u001b[1;32m     67\u001b[0m         \u001b[0mgraph\u001b[0m \u001b[0;34m=\u001b[0m \u001b[0mox\u001b[0m\u001b[0;34m.\u001b[0m\u001b[0madd_edge_travel_times\u001b[0m\u001b[0;34m(\u001b[0m\u001b[0mgraph\u001b[0m\u001b[0;34m)\u001b[0m\u001b[0;34m\u001b[0m\u001b[0;34m\u001b[0m\u001b[0m\n\u001b[0;32m---> 68\u001b[0;31m         \u001b[0mgraph\u001b[0m \u001b[0;34m=\u001b[0m \u001b[0mox\u001b[0m\u001b[0;34m.\u001b[0m\u001b[0madd_node_elevations_google\u001b[0m\u001b[0;34m(\u001b[0m\u001b[0mgraph\u001b[0m\u001b[0;34m,\u001b[0m \u001b[0mself\u001b[0m\u001b[0;34m.\u001b[0m\u001b[0mgoogle_maps_key\u001b[0m\u001b[0;34m)\u001b[0m\u001b[0;34m\u001b[0m\u001b[0;34m\u001b[0m\u001b[0m\n\u001b[0m\u001b[1;32m     69\u001b[0m         \u001b[0mgraph\u001b[0m \u001b[0;34m=\u001b[0m \u001b[0mox\u001b[0m\u001b[0;34m.\u001b[0m\u001b[0madd_edge_grades\u001b[0m\u001b[0;34m(\u001b[0m\u001b[0mgraph\u001b[0m\u001b[0;34m)\u001b[0m\u001b[0;34m\u001b[0m\u001b[0;34m\u001b[0m\u001b[0m\n\u001b[1;32m     70\u001b[0m         \u001b[0mself\u001b[0m\u001b[0;34m.\u001b[0m\u001b[0mgraph\u001b[0m \u001b[0;34m=\u001b[0m \u001b[0mgraph\u001b[0m\u001b[0;34m\u001b[0m\u001b[0;34m\u001b[0m\u001b[0m\n",
      "\u001b[0;32m~/EVPRE/env/lib/python3.8/site-packages/osmnx/elevation.py\u001b[0m in \u001b[0;36madd_node_elevations_google\u001b[0;34m(G, api_key, max_locations_per_batch, pause_duration, precision)\u001b[0m\n\u001b[1;32m    198\u001b[0m     \u001b[0;31m# sanity check that all our vectors have the same number of elements\u001b[0m\u001b[0;34m\u001b[0m\u001b[0;34m\u001b[0m\u001b[0;34m\u001b[0m\u001b[0m\n\u001b[1;32m    199\u001b[0m     \u001b[0;32mif\u001b[0m \u001b[0;32mnot\u001b[0m \u001b[0;34m(\u001b[0m\u001b[0mlen\u001b[0m\u001b[0;34m(\u001b[0m\u001b[0mresults\u001b[0m\u001b[0;34m)\u001b[0m \u001b[0;34m==\u001b[0m \u001b[0mlen\u001b[0m\u001b[0;34m(\u001b[0m\u001b[0mG\u001b[0m\u001b[0;34m)\u001b[0m \u001b[0;34m==\u001b[0m \u001b[0mlen\u001b[0m\u001b[0;34m(\u001b[0m\u001b[0mnode_points\u001b[0m\u001b[0;34m)\u001b[0m\u001b[0;34m)\u001b[0m\u001b[0;34m:\u001b[0m\u001b[0;34m\u001b[0m\u001b[0;34m\u001b[0m\u001b[0m\n\u001b[0;32m--> 200\u001b[0;31m         raise Exception(\n\u001b[0m\u001b[1;32m    201\u001b[0m             \u001b[0;34mf\"Graph has {len(G)} nodes but we received {len(results)} results from elevation API\"\u001b[0m\u001b[0;34m\u001b[0m\u001b[0;34m\u001b[0m\u001b[0m\n\u001b[1;32m    202\u001b[0m         )\n",
      "\u001b[0;31mException\u001b[0m: Graph has 14701 nodes but we received 0 results from elevation API"
     ]
    }
   ],
   "source": [
    "route_estimator_length = RouteEstimator(Config())"
   ]
  },
  {
   "cell_type": "markdown",
   "id": "8253cefb",
   "metadata": {},
   "source": [
    "## Example of the Default Map"
   ]
  },
  {
   "cell_type": "code",
   "execution_count": null,
   "id": "9b83bbec",
   "metadata": {},
   "outputs": [],
   "source": [
    "route_map = route_estimator_length.create_map()\n",
    "route_map"
   ]
  },
  {
   "cell_type": "markdown",
   "id": "93f3fcd5",
   "metadata": {
    "tags": []
   },
   "source": [
    " ## Example of Simple Energy Model\n",
    " Requires: Google Maps API Key, Open Weather API Key"
   ]
  },
  {
   "cell_type": "code",
   "execution_count": null,
   "id": "529acacb",
   "metadata": {},
   "outputs": [],
   "source": [
    "route_estimator_simple_model = RouteEstimator(Config(), graph=route_estimator_length.get_graph())\n",
    "route_estimator_simple_model.activate_energy_model()\n",
    "route_map_simple_e = route_estimator_simple_model.create_map()\n",
    "route_map_simple_e"
   ]
  },
  {
   "cell_type": "code",
   "execution_count": null,
   "id": "2cef80f6-9e98-4d2c-984d-05a948909a86",
   "metadata": {},
   "outputs": [],
   "source": [
    "#You must use the map first to create a path or else these methods will return null"
   ]
  },
  {
   "cell_type": "code",
   "execution_count": null,
   "id": "7219297e-83e6-4437-a31c-aacfd69e192c",
   "metadata": {},
   "outputs": [],
   "source": [
    "#Example of getting path nodes\n",
    "last_nodes = route_estimator_simple_model.get_last_path_nodes()\n",
    "print(last_nodes)"
   ]
  },
  {
   "cell_type": "code",
   "execution_count": null,
   "id": "f2511792-4e68-4a3e-8980-36b47480b83d",
   "metadata": {},
   "outputs": [],
   "source": [
    "#Example of getting path related edges\n",
    "last_rel_edges = route_estimator_simple_model.get_last_path_rel_edges()\n",
    "print(last_rel_edges)"
   ]
  },
  {
   "cell_type": "markdown",
   "id": "1976c4ce",
   "metadata": {},
   "source": [
    "## Example of Isochrone"
   ]
  },
  {
   "cell_type": "code",
   "execution_count": null,
   "id": "5f86153b",
   "metadata": {},
   "outputs": [],
   "source": [
    "range_estimator_simple_model = RangeEstimator(Config(), route_estimator_simple_model.get_graph())\n",
    "range_estimator_simple_model.generate_isochrone()"
   ]
  },
  {
   "cell_type": "markdown",
   "id": "62288efe",
   "metadata": {},
   "source": [
    " ## Example of FASTSim Energy Model\n",
    " Requires: Google Maps API Key, Open Weather API Key\n",
    "\n",
    " Note: FASTSim calculations may take a few minutes"
   ]
  },
  {
   "cell_type": "code",
   "execution_count": null,
   "id": "86721cd4",
   "metadata": {},
   "outputs": [],
   "source": [
    "route_estimator_fastsim_model = RouteEstimator(Config(\"FASTSIM\"), graph=route_estimator_length.get_graph())\n",
    "route_estimator_fastsim_model.activate_energy_model()\n",
    "route_map_fastsim_e = route_estimator_fastsim_model.create_map()\n",
    "route_map_fastsim_e"
   ]
  },
  {
   "cell_type": "code",
   "execution_count": null,
   "id": "f37ecf15",
   "metadata": {},
   "outputs": [],
   "source": [
    "range_estimator_fastsim_model = RangeEstimator(Config(\"FASTSIM\"), route_estimator_fastsim_model.get_graph())\n",
    "range_estimator_fastsim_model.generate_isochrone()"
   ]
  }
 ],
 "metadata": {
  "interpreter": {
   "hash": "6367897523351275db1411de5a651ff300f9a75fbc1c315b3dc99aad2a2dea7d"
  },
  "kernelspec": {
   "display_name": "Python 3 (ipykernel)",
   "language": "python",
   "name": "python3"
  },
  "language_info": {
   "codemirror_mode": {
    "name": "ipython",
    "version": 3
   },
   "file_extension": ".py",
   "mimetype": "text/x-python",
   "name": "python",
   "nbconvert_exporter": "python",
   "pygments_lexer": "ipython3",
   "version": "3.8.10"
  }
 },
 "nbformat": 4,
 "nbformat_minor": 5
}
