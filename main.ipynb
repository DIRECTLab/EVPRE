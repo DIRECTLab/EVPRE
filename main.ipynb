{
 "cells": [
  {
   "cell_type": "markdown",
   "id": "c2ce3d65-4c6f-4308-a761-45de6849ef2e",
   "metadata": {},
   "source": [
    "# Route Estimator\n",
    "This software is to help predict the most energy optimized path between two destinations. The default method for computing shortest path can be changed in the `config.py`. The current example edge weight is based on length to show functionality of the markers. There are two provided models that can be applied to the graph to compute an energy consumption estimate. The weight mode can then be changed accordingly."
   ]
  },
  {
   "cell_type": "code",
   "execution_count": 1,
   "id": "bbcdff39-5c2a-4bfa-b513-427fb62e1598",
   "metadata": {},
   "outputs": [],
   "source": [
    "import sys\n",
    "sys.path.append(\"route_estimator\")\n",
    "from route_estimator import RouteEstimator\n",
    "from config import Config"
   ]
  },
  {
   "cell_type": "markdown",
   "id": "50dd046c-8696-4cfc-ada3-5c60ef8c82ca",
   "metadata": {},
   "source": [
    " To get started you will need an instance of the RouteEstimator object created with the config file. You will need to setup the config file to include api keys."
   ]
  },
  {
   "cell_type": "code",
   "execution_count": 2,
   "id": "99c87092-1e65-4725-ab64-084b1318fa38",
   "metadata": {},
   "outputs": [],
   "source": [
    "route_estimator = RouteEstimator(Config())"
   ]
  },
  {
   "cell_type": "markdown",
   "id": "afbb64d2-a6ac-426a-87a8-c2b512b4eafe",
   "metadata": {},
   "source": [
    "## Example of the Default Map"
   ]
  },
  {
   "cell_type": "code",
   "execution_count": 3,
   "id": "3d83f616-477b-47cb-bb19-40cbbc11ae84",
   "metadata": {},
   "outputs": [
    {
     "data": {
      "application/vnd.jupyter.widget-view+json": {
       "model_id": "f4b0ed7724fc49ea8c9da458c2d6db8b",
       "version_major": 2,
       "version_minor": 0
      },
      "text/plain": [
       "Map(center=[41.740563, -111.81391], controls=(ZoomControl(options=['position', 'zoom_in_text', 'zoom_in_title'…"
      ]
     },
     "metadata": {},
     "output_type": "display_data"
    }
   ],
   "source": [
    "route_map = route_estimator.create_map()\n",
    "route_map"
   ]
  }
 ],
 "metadata": {
  "kernelspec": {
   "display_name": "Python 3",
   "language": "python",
   "name": "python3"
  },
  "language_info": {
   "codemirror_mode": {
    "name": "ipython",
    "version": 3
   },
   "file_extension": ".py",
   "mimetype": "text/x-python",
   "name": "python",
   "nbconvert_exporter": "python",
   "pygments_lexer": "ipython3",
   "version": "3.7.10"
  }
 },
 "nbformat": 4,
 "nbformat_minor": 5
}
