{
 "cells": [
  {
   "cell_type": "markdown",
   "id": "c2ce3d65-4c6f-4308-a761-45de6849ef2e",
   "metadata": {},
   "source": [
    "# Route Estimator\n",
    "This software is to help predict the most energy optimized path between two destinations. The default method for computing shortest path can be changed in the `config.py`. The current example edge weight is based on length to show functionality of the markers. There are two provided models that can be applied to the graph to compute an energy consumption estimate. The weight mode can then be changed accordingly."
   ]
  },
  {
   "cell_type": "code",
   "execution_count": 1,
   "id": "bbcdff39-5c2a-4bfa-b513-427fb62e1598",
   "metadata": {},
   "outputs": [],
   "source": [
    "import sys\n",
    "sys.path.append(\"route_estimator\")\n",
    "sys.path.append(\"route_estimator/models\")\n",
    "sys.path.append(\"route_estimator/weather\")\n",
    "sys.path.append(\"route_estimator/traffic\")\n",
    "from route_estimator import RouteEstimator\n",
    "from config import Config\n"
   ]
  },
  {
   "cell_type": "markdown",
   "id": "50dd046c-8696-4cfc-ada3-5c60ef8c82ca",
   "metadata": {},
   "source": [
    " To get started you will need an instance of the RouteEstimator object created with the config file. You will need to setup the config file to include api keys."
   ]
  },
  {
   "cell_type": "code",
   "execution_count": 2,
   "id": "99c87092-1e65-4725-ab64-084b1318fa38",
   "metadata": {},
   "outputs": [],
   "source": [
    "route_estimator_length = RouteEstimator(Config())"
   ]
  },
  {
   "cell_type": "markdown",
   "id": "afbb64d2-a6ac-426a-87a8-c2b512b4eafe",
   "metadata": {},
   "source": [
    "## Example of the Default Map"
   ]
  },
  {
   "cell_type": "code",
   "execution_count": 3,
   "id": "3d83f616-477b-47cb-bb19-40cbbc11ae84",
   "metadata": {},
   "outputs": [
    {
     "data": {
      "application/vnd.jupyter.widget-view+json": {
       "model_id": "6cf03376fc134dd09ace8dbc0ac01081",
       "version_major": 2,
       "version_minor": 0
      },
      "text/plain": [
       "Map(center=[41.740563, -111.81391], controls=(ZoomControl(options=['position', 'zoom_in_text', 'zoom_in_title'…"
      ]
     },
     "metadata": {},
     "output_type": "display_data"
    }
   ],
   "source": [
    "route_map = route_estimator_length.create_map()\n",
    "route_map"
   ]
  },
  {
   "cell_type": "markdown",
   "id": "10a432b0-b9d4-45a9-8772-712aa3b96cd6",
   "metadata": {
    "tags": []
   },
   "source": [
    " ## Example of Simple Energy Model\n",
    " Requires: Google Maps API Key, Open Weather API Key"
   ]
  },
  {
   "cell_type": "code",
   "execution_count": 4,
   "id": "89a3c16c-78cf-4506-b249-6e2b7082f40e",
   "metadata": {},
   "outputs": [
    {
     "data": {
      "application/vnd.jupyter.widget-view+json": {
       "model_id": "e837ad0c44444974bd46fdaf3aae6a1f",
       "version_major": 2,
       "version_minor": 0
      },
      "text/plain": [
       "Map(center=[41.740563, -111.81391], controls=(ZoomControl(options=['position', 'zoom_in_text', 'zoom_in_title'…"
      ]
     },
     "metadata": {},
     "output_type": "display_data"
    }
   ],
   "source": [
    "route_estimator_simple_model = RouteEstimator(Config())\n",
    "route_estimator_simple_model.activate_simple_energy_model()\n",
    "route_map_simple_e = route_estimator_simple_model.create_map()\n",
    "route_map_simple_e"
   ]
  }
 ],
 "metadata": {
  "kernelspec": {
   "display_name": "Python 3",
   "language": "python",
   "name": "python3"
  },
  "language_info": {
   "codemirror_mode": {
    "name": "ipython",
    "version": 3
   },
   "file_extension": ".py",
   "mimetype": "text/x-python",
   "name": "python",
   "nbconvert_exporter": "python",
   "pygments_lexer": "ipython3",
   "version": "3.7.10"
  }
 },
 "nbformat": 4,
 "nbformat_minor": 5
}
